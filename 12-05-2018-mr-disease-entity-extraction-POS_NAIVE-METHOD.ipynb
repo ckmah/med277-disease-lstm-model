{
 "cells": [
  {
   "cell_type": "markdown",
   "metadata": {},
   "source": [
    "### Import Necessary Packages"
   ]
  },
  {
   "cell_type": "code",
   "execution_count": 1,
   "metadata": {},
   "outputs": [],
   "source": [
    "import pandas as pd \n",
    "import numpy as np \n",
    "import seaborn as sns\n",
    "\n",
    "from textblob import TextBlob, Blobber # POS tagging\n",
    "from textblob import Blobber"
   ]
  },
  {
   "cell_type": "markdown",
   "metadata": {},
   "source": [
    "## Attempt #1: A Naive Method for Subject Searching\n",
    "\n",
    "**Michelle Ragsac, Clarence Mah**\n",
    "\n",
    "With this naive approach to disease mention identification within biomedical literature, we will be using a part of speech (POS) tagger package in Python, `TextBlob`, to extract all of the noun phrases within our medical text (using `TextBlob.noun_phrases`). Our medical text is a PubMed article Title and Abstract concatenated together with a `\" \"` character derived from the [NCBI Disease Corpus](https://www.ncbi.nlm.nih.gov/CBBresearch/Dogan/DISEASE/). \n",
    "\n",
    "Next, we will compare this set of words to the [5,000 most commonly used words in the English language](https://www.wordfrequency.info/intro.asp) from Mark Davies, [a Professor of Linguistics at Brigham Young University](https://corpus.byu.edu/faq.asp#x1), in an attempt to remove non-medically associated words. \n",
    "\n",
    "This final word set will be considered our set of \"disease\" mentions within our biomedical text, as we have no way to easily distinguish between which words constitute a disease, and which words do not correctly classify as disease mentions. For comparisons, the ground truths or true positives will be the set of disease words that were manually annotated by the NCBI Disease Corpus team.\n",
    "\n",
    "### Importing the NCBI Disease Corpus\n",
    "\n",
    "To start off our analysis, we'll import all of the datasets from the NCBI Disease Corpus. They are stored into `NCBIdevelopset_corpus.txt`, `NCBItestset_corpus.txt`, and `NCBItrainset_corpus.txt` files. For this naive approach, we will not perform any training, so we will combine all of the sets together when we compile our final analysis of this approach. \n",
    "\n",
    "But within this notebook, we will first demonstrate our methods on a single entry before evauating everything together.\n",
    "\n",
    "#### Generate a method to parse through the text files and convert the contents into a `pandas` Data Frame "
   ]
  },
  {
   "cell_type": "code",
   "execution_count": 2,
   "metadata": {},
   "outputs": [],
   "source": [
    "def convert_corpus_dict(FILENAME):\n",
    "    \"\"\"HELPER METHOD: given the FILENAME for the NCBI corpus file, convert to pandas dataframe\"\"\"\n",
    "    df = {}\n",
    "    new_entry = True # tracks if we're evaluating a new pubmed article\n",
    "    for LINE in open(FILENAME,'r'):\n",
    "        if LINE == '\\n': # articles are separated by newline characters\n",
    "            new_entry = True\n",
    "        else:\n",
    "            if new_entry == True:\n",
    "                # if LINE contains text & new_entry is True, we have a new article to input w/ title\n",
    "                new_entry = False \n",
    "                PubMed_ID = int(LINE.strip().split(\"|\")[0])\n",
    "                df[PubMed_ID] = {} # define the new pubmed entry, then extract title \n",
    "                df[PubMed_ID][\"Title\"] = LINE.strip().split(\"|\")[2]\n",
    "            elif new_entry == False:\n",
    "                # if LINE contains text & new_entry is False, we have more information to input\n",
    "                if \"|a|\" in LINE: # abstract information \n",
    "                    df[PubMed_ID][\"Abstract\"] = LINE.strip().split(\"|\")[2][0:-1]\n",
    "                elif \"\\t\" in LINE: # identified mentions of diseases, etc.\n",
    "                    if \"Mentions\" not in df[PubMed_ID].keys(): \n",
    "                        # there might be multiple lines... add first occurence properly\n",
    "                        df[PubMed_ID][\"Mentions\"] = []\n",
    "                    df[PubMed_ID][\"Mentions\"].append(LINE.strip().split(\"\\t\")[1:])\n",
    "    \n",
    "    # we've gone through the whole file, so output as proper pandas dataframe\n",
    "    return(pd.DataFrame(df).T[[\"Title\",\"Abstract\",\"Mentions\"]])"
   ]
  },
  {
   "cell_type": "markdown",
   "metadata": {},
   "source": [
    "#### Import all of the files"
   ]
  },
  {
   "cell_type": "code",
   "execution_count": 3,
   "metadata": {},
   "outputs": [],
   "source": [
    "devel_set = 'NCBIdevelopset_corpus.txt'\n",
    "df_devel = convert_corpus_dict(devel_set)\n",
    "\n",
    "train_set = 'NCBItrainset_corpus.txt'\n",
    "df_train = convert_corpus_dict(train_set)\n",
    "\n",
    "testa_set = 'NCBItestset_corpus.txt'\n",
    "df_testa = convert_corpus_dict(testa_set)"
   ]
  },
  {
   "cell_type": "markdown",
   "metadata": {},
   "source": [
    "### Importing the 5,000 Most Common English Words\n",
    "\n",
    "We'll be importing the 5,000 most common English words from [http://www.wordfrequency.info](http://www.wordfrequency.info); they have larger most frequent English word sets, but those require us to pay for the data. \n",
    "\n",
    "We'll stick with what's free... :-)\n",
    "\n",
    "They also give us information on the part of speech, frequency, and dispersion, but the main thing we want are the words themselves!"
   ]
  },
  {
   "cell_type": "code",
   "execution_count": 4,
   "metadata": {},
   "outputs": [
    {
     "name": "stdout",
     "output_type": "stream",
     "text": [
      "        Word Part of speech  Frequency  Dispersion\n",
      "Rank                                              \n",
      "1        the              a   22038615        0.98\n",
      "2         be              v   12545825        0.97\n",
      "3        and              c   10741073        0.99\n",
      "4         of              i   10343885        0.97\n",
      "5          a              a   10144200        0.98\n"
     ]
    }
   ],
   "source": [
    "# import the text file of 5000 most common English words from http://www.wordfrequency.info\n",
    "# (https://www.wordfrequency.info/intro.asp)\n",
    "df_common_english = pd.read_csv('common_english_words.txt',delimiter='\\t').set_index('Rank')\n",
    "print(df_common_english.head())\n",
    "\n",
    "# gather the most common words and turn it into a set for easy set comparison later\n",
    "common_words = set(df_common_english[df_common_english.columns[0]])"
   ]
  },
  {
   "cell_type": "markdown",
   "metadata": {},
   "source": [
    "### Demonstration of Analysis on Entry#`8808605` (First Entry in Development Corpus Subset)"
   ]
  },
  {
   "cell_type": "code",
   "execution_count": 5,
   "metadata": {},
   "outputs": [],
   "source": [
    "DEMONSTRATION_ENTRY = df_devel.iloc[0]"
   ]
  },
  {
   "cell_type": "markdown",
   "metadata": {},
   "source": [
    "We will start this analysis by demonstrating our procedure on a single entry within the NCBI Disease Corpus (the first entry from within the `NCBIdevelopset_corpus.txt`). The `TEXT` contents of this entry can be found below:"
   ]
  },
  {
   "cell_type": "code",
   "execution_count": 6,
   "metadata": {},
   "outputs": [
    {
     "data": {
      "text/plain": [
       "'Somatic-cell selection is a major determinant of the blood-cell phenotype in heterozygotes for glucose-6-phosphate dehydrogenase mutations causing severe enzyme deficiency. X-chromosome inactivation in mammals is regarded as an essentially random process, but the resulting somatic-cell mosaicism creates the opportunity for cell selection. In most people with red-blood-cell glucose-6-phosphate dehydrogenase (G6PD) deficiency, the enzyme-deficient phenotype is only moderately expressed in nucleated cells. However, in a small subset of hemizygous males who suffer from chronic nonspherocytic hemolytic anemia, the underlying mutations (designated class I) cause more-severe G6PD deficiency, and this might provide an opportunity for selection in heterozygous females during development. In order to test this possibility we have analyzed four heterozygotes for class I G6PD mutations  two with G6PD Portici (1178G-- > A) and two with G6PD Bari (1187C-- > T). We found that in fractionated blood cell types (including erythroid, myeloid, and lymphoid cell lineages) there was a significant excess of G6PD-normal cells. The significant concordance that we have observed in the degree of imbalance in the different blood-cell lineages indicates that a selective mechanism is likely to operate at the level of pluripotent blood stem cells. Thus, it appears that severe G6PD deficiency affects adversely the proliferation or the survival of nucleated blood cells and that this phenotypic characteristic is critical during hematopoiesis.'"
      ]
     },
     "execution_count": 6,
     "metadata": {},
     "output_type": "execute_result"
    }
   ],
   "source": [
    "DEMONSTRATION_TEXT = DEMONSTRATION_ENTRY[\"Title\"] + \" \" + DEMONSTRATION_ENTRY[\"Abstract\"]\n",
    "DEMONSTRATION_TEXT"
   ]
  },
  {
   "cell_type": "markdown",
   "metadata": {},
   "source": [
    "#### Extracting Noun Phrases from `DEMONSTRATION_TEXT`"
   ]
  },
  {
   "cell_type": "code",
   "execution_count": 7,
   "metadata": {},
   "outputs": [
    {
     "name": "stdout",
     "output_type": "stream",
     "text": [
      "[nltk_data] Downloading package punkt to /Users/mragsac/nltk_data...\n",
      "[nltk_data]   Package punkt is already up-to-date!\n",
      "[nltk_data] Downloading package brown to /Users/mragsac/nltk_data...\n",
      "[nltk_data]   Package brown is already up-to-date!\n",
      "[nltk_data] Downloading package averaged_perceptron_tagger to\n",
      "[nltk_data]     /Users/mragsac/nltk_data...\n",
      "[nltk_data]   Package averaged_perceptron_tagger is already up-to-\n",
      "[nltk_data]       date!\n",
      "[nltk_data] Downloading package wordnet to /Users/mragsac/nltk_data...\n",
      "[nltk_data]   Package wordnet is already up-to-date!\n"
     ]
    },
    {
     "data": {
      "text/plain": [
       "True"
      ]
     },
     "execution_count": 7,
     "metadata": {},
     "output_type": "execute_result"
    }
   ],
   "source": [
    "import nltk # natural language toolkit\n",
    "\n",
    "# generate a textblob object of our text (lowercase everything for normalization purposes)\n",
    "tb = TextBlob(DEMONSTRATION_TEXT.lower()) \n",
    "\n",
    "nltk.download('punkt')\n",
    "nltk.download('brown')\n",
    "nltk.download('averaged_perceptron_tagger')\n",
    "nltk.download('wordnet')"
   ]
  },
  {
   "cell_type": "code",
   "execution_count": 8,
   "metadata": {},
   "outputs": [
    {
     "name": "stdout",
     "output_type": "stream",
     "text": [
      "somatic-cell selection\n",
      "major determinant\n",
      "blood-cell phenotype\n",
      "glucose-6-phosphate dehydrogenase mutations\n",
      "severe enzyme deficiency\n",
      "x-chromosome inactivation\n",
      "random process\n",
      "somatic-cell mosaicism creates\n",
      "cell selection\n",
      "red-blood-cell glucose-6-phosphate dehydrogenase\n",
      "enzyme-deficient phenotype\n",
      "small subset\n",
      "hemizygous males\n",
      "chronic nonspherocytic hemolytic anemia\n",
      "class i\n",
      "more-severe g6pd deficiency\n",
      "heterozygous females\n",
      "class i g6pd mutations\n",
      "g6pd portici\n",
      "g6pd bari\n",
      "> t\n",
      "blood cell types\n",
      "lymphoid cell lineages\n",
      "significant excess\n",
      "g6pd-normal cells\n",
      "significant concordance\n",
      "different blood-cell lineages\n",
      "selective mechanism\n",
      "pluripotent blood stem cells\n",
      "severe g6pd deficiency affects\n",
      "blood cells\n",
      "phenotypic characteristic\n"
     ]
    }
   ],
   "source": [
    "print('\\n'.join(tb.noun_phrases))"
   ]
  },
  {
   "cell_type": "markdown",
   "metadata": {},
   "source": [
    "#### Remove Commonly Used English Terms from Biomedical Text"
   ]
  },
  {
   "cell_type": "code",
   "execution_count": 9,
   "metadata": {},
   "outputs": [
    {
     "data": {
      "text/plain": [
       "['somatic-cell selection',\n",
       " 'cell selection',\n",
       " 'more-severe g6pd deficiency',\n",
       " 'hemizygous males',\n",
       " 'blood-cell phenotype',\n",
       " 'g6pd bari',\n",
       " 'glucose-6-phosphate dehydrogenase mutations',\n",
       " 'major determinant',\n",
       " 'somatic-cell mosaicism creates',\n",
       " 'severe enzyme deficiency',\n",
       " 'blood cell types',\n",
       " 'red-blood-cell glucose-6-phosphate dehydrogenase',\n",
       " 'class i g6pd mutations',\n",
       " 'g6pd portici',\n",
       " 'significant concordance',\n",
       " 'chronic nonspherocytic hemolytic anemia',\n",
       " 'blood cells',\n",
       " 'small subset',\n",
       " 'g6pd-normal cells',\n",
       " 'enzyme-deficient phenotype',\n",
       " 'class i',\n",
       " 'significant excess',\n",
       " 'pluripotent blood stem cells',\n",
       " 'x-chromosome inactivation',\n",
       " 'different blood-cell lineages',\n",
       " 'phenotypic characteristic',\n",
       " 'selective mechanism',\n",
       " 'heterozygous females',\n",
       " 'severe g6pd deficiency affects',\n",
       " 'lymphoid cell lineages',\n",
       " '> t',\n",
       " 'random process']"
      ]
     },
     "execution_count": 9,
     "metadata": {},
     "output_type": "execute_result"
    }
   ],
   "source": [
    "# gather words from our corpus that are commonly used in the English language\n",
    "common_words_in_corpus = set(common_words) & set(tb.noun_phrases)\n",
    "\n",
    "# we are assuming that we are left with medically-associated words\n",
    "medical_words = [i for i in set(tb.noun_phrases) if (i not in common_words_in_corpus)]\n",
    "medical_words"
   ]
  },
  {
   "cell_type": "markdown",
   "metadata": {},
   "source": [
    "#### Extracting the True Disease Mentions from the NCBI Disease Corpus for Comparison Against Naive Method"
   ]
  },
  {
   "cell_type": "code",
   "execution_count": 10,
   "metadata": {},
   "outputs": [
    {
     "name": "stdout",
     "output_type": "stream",
     "text": [
      "['154', '171', 'enzyme deficiency', 'DiseaseClass', ' D008661']\n",
      "['376', '427', 'glucose-6-phosphate dehydrogenase (G6PD) deficiency', 'SpecificDisease', 'D005955']\n",
      "['572', '611', 'chronic nonspherocytic hemolytic anemia', 'SpecificDisease', 'D000746']\n",
      "['677', '692', 'G6PD deficiency', 'SpecificDisease', 'D005955']\n",
      "['1368', '1383', 'G6PD deficiency', 'SpecificDisease', 'D005955']\n"
     ]
    }
   ],
   "source": [
    "# print all of the disease mentions made within the text\n",
    "disease_annotations = []\n",
    "for ELEMENT in df_devel.iloc[0][\"Mentions\"]:\n",
    "    print(ELEMENT)\n",
    "    disease_annotations.append(ELEMENT[2].lower())"
   ]
  },
  {
   "cell_type": "code",
   "execution_count": 11,
   "metadata": {},
   "outputs": [
    {
     "data": {
      "text/plain": [
       "{'chronic nonspherocytic hemolytic anemia'}"
      ]
     },
     "execution_count": 11,
     "metadata": {},
     "output_type": "execute_result"
    }
   ],
   "source": [
    "tp = set(medical_words) & set(disease_annotations)\n",
    "tp"
   ]
  },
  {
   "cell_type": "code",
   "execution_count": 12,
   "metadata": {
    "scrolled": false
   },
   "outputs": [
    {
     "data": {
      "text/plain": [
       "['somatic-cell selection',\n",
       " 'cell selection',\n",
       " 'more-severe g6pd deficiency',\n",
       " 'hemizygous males',\n",
       " 'glucose-6-phosphate dehydrogenase mutations',\n",
       " 'blood-cell phenotype',\n",
       " 'g6pd bari',\n",
       " 'major determinant',\n",
       " 'somatic-cell mosaicism creates',\n",
       " 'severe enzyme deficiency',\n",
       " 'blood cell types',\n",
       " 'red-blood-cell glucose-6-phosphate dehydrogenase',\n",
       " 'class i g6pd mutations',\n",
       " 'g6pd portici',\n",
       " 'significant concordance',\n",
       " 'blood cells',\n",
       " 'small subset',\n",
       " 'g6pd-normal cells',\n",
       " 'enzyme-deficient phenotype',\n",
       " 'class i',\n",
       " 'significant excess',\n",
       " 'pluripotent blood stem cells',\n",
       " 'x-chromosome inactivation',\n",
       " 'different blood-cell lineages',\n",
       " 'phenotypic characteristic',\n",
       " 'selective mechanism',\n",
       " 'heterozygous females',\n",
       " 'severe g6pd deficiency affects',\n",
       " 'lymphoid cell lineages',\n",
       " '> t',\n",
       " 'random process']"
      ]
     },
     "execution_count": 12,
     "metadata": {},
     "output_type": "execute_result"
    }
   ],
   "source": [
    "fp = [word for word in set(medical_words) if word not in tp]\n",
    "fp"
   ]
  },
  {
   "cell_type": "code",
   "execution_count": 13,
   "metadata": {
    "scrolled": true
   },
   "outputs": [
    {
     "data": {
      "text/plain": [
       "['g6pd deficiency',\n",
       " 'enzyme deficiency',\n",
       " 'glucose-6-phosphate dehydrogenase (g6pd) deficiency']"
      ]
     },
     "execution_count": 13,
     "metadata": {},
     "output_type": "execute_result"
    }
   ],
   "source": [
    "fn = [word for word in set(disease_annotations) if word not in set(medical_words)]\n",
    "fn"
   ]
  },
  {
   "cell_type": "markdown",
   "metadata": {},
   "source": [
    "### Running the Naive Method on All Data"
   ]
  },
  {
   "cell_type": "code",
   "execution_count": 14,
   "metadata": {},
   "outputs": [
    {
     "data": {
      "text/html": [
       "<div>\n",
       "<style scoped>\n",
       "    .dataframe tbody tr th:only-of-type {\n",
       "        vertical-align: middle;\n",
       "    }\n",
       "\n",
       "    .dataframe tbody tr th {\n",
       "        vertical-align: top;\n",
       "    }\n",
       "\n",
       "    .dataframe thead th {\n",
       "        text-align: right;\n",
       "    }\n",
       "</style>\n",
       "<table border=\"1\" class=\"dataframe\">\n",
       "  <thead>\n",
       "    <tr style=\"text-align: right;\">\n",
       "      <th></th>\n",
       "      <th>Title</th>\n",
       "      <th>Abstract</th>\n",
       "      <th>Mentions</th>\n",
       "      <th>Experimental</th>\n",
       "      <th>True</th>\n",
       "      <th>TP</th>\n",
       "      <th>FP</th>\n",
       "      <th>FN</th>\n",
       "    </tr>\n",
       "  </thead>\n",
       "  <tbody>\n",
       "    <tr>\n",
       "      <th>8808605</th>\n",
       "      <td>Somatic-cell selection is a major determinant ...</td>\n",
       "      <td>X-chromosome inactivation in mammals is regard...</td>\n",
       "      <td>[[154, 171, enzyme deficiency, DiseaseClass,  ...</td>\n",
       "      <td>[cell selection, x-chromosome, hemizygous male...</td>\n",
       "      <td>[chronic nonspherocytic hemolytic anemia, gluc...</td>\n",
       "      <td>1</td>\n",
       "      <td>28</td>\n",
       "      <td>2</td>\n",
       "    </tr>\n",
       "    <tr>\n",
       "      <th>9050866</th>\n",
       "      <td>The ataxia-telangiectasia gene product, a cons...</td>\n",
       "      <td>The product of the ataxia-telangiectasia gene ...</td>\n",
       "      <td>[[4, 25, ataxia-telangiectasia, Modifier, D001...</td>\n",
       "      <td>[exposure, genome damage, cell cycle regulatio...</td>\n",
       "      <td>[]</td>\n",
       "      <td>0</td>\n",
       "      <td>23</td>\n",
       "      <td>0</td>\n",
       "    </tr>\n",
       "    <tr>\n",
       "      <th>9012409</th>\n",
       "      <td>Molecular basis for Duarte and Los Angeles var...</td>\n",
       "      <td>Human orythrocytes that are homozygous for the...</td>\n",
       "      <td>[[20, 63, Duarte and Los Angeles variant galac...</td>\n",
       "      <td>[missense mutation, enzyme thermal stability, ...</td>\n",
       "      <td>[duarte enzyme variant of galactosemia, la var...</td>\n",
       "      <td>0</td>\n",
       "      <td>42</td>\n",
       "      <td>2</td>\n",
       "    </tr>\n",
       "    <tr>\n",
       "      <th>8755645</th>\n",
       "      <td>An intronic mutation in a lariat branchpoint s...</td>\n",
       "      <td>The first step in the splicing of an intron fr...</td>\n",
       "      <td>[[78, 102, inherited human disorder, DiseaseCl...</td>\n",
       "      <td>[missense mutation, lecithin cholesterol acylt...</td>\n",
       "      <td>[fed, fish-eye disease]</td>\n",
       "      <td>2</td>\n",
       "      <td>27</td>\n",
       "      <td>0</td>\n",
       "    </tr>\n",
       "    <tr>\n",
       "      <th>8751855</th>\n",
       "      <td>Genetic heterogeneity in hereditary breast can...</td>\n",
       "      <td>The common hereditary forms of breast cancer h...</td>\n",
       "      <td>[[25, 49, hereditary breast cancer, SpecificDi...</td>\n",
       "      <td>[mutation analyses, genetic, common hereditary...</td>\n",
       "      <td>[hereditary breast cancers, hereditary breast ...</td>\n",
       "      <td>2</td>\n",
       "      <td>18</td>\n",
       "      <td>1</td>\n",
       "    </tr>\n",
       "  </tbody>\n",
       "</table>\n",
       "</div>"
      ],
      "text/plain": [
       "                                                     Title  \\\n",
       "8808605  Somatic-cell selection is a major determinant ...   \n",
       "9050866  The ataxia-telangiectasia gene product, a cons...   \n",
       "9012409  Molecular basis for Duarte and Los Angeles var...   \n",
       "8755645  An intronic mutation in a lariat branchpoint s...   \n",
       "8751855  Genetic heterogeneity in hereditary breast can...   \n",
       "\n",
       "                                                  Abstract  \\\n",
       "8808605  X-chromosome inactivation in mammals is regard...   \n",
       "9050866  The product of the ataxia-telangiectasia gene ...   \n",
       "9012409  Human orythrocytes that are homozygous for the...   \n",
       "8755645  The first step in the splicing of an intron fr...   \n",
       "8751855  The common hereditary forms of breast cancer h...   \n",
       "\n",
       "                                                  Mentions  \\\n",
       "8808605  [[154, 171, enzyme deficiency, DiseaseClass,  ...   \n",
       "9050866  [[4, 25, ataxia-telangiectasia, Modifier, D001...   \n",
       "9012409  [[20, 63, Duarte and Los Angeles variant galac...   \n",
       "8755645  [[78, 102, inherited human disorder, DiseaseCl...   \n",
       "8751855  [[25, 49, hereditary breast cancer, SpecificDi...   \n",
       "\n",
       "                                              Experimental  \\\n",
       "8808605  [cell selection, x-chromosome, hemizygous male...   \n",
       "9050866  [exposure, genome damage, cell cycle regulatio...   \n",
       "9012409  [missense mutation, enzyme thermal stability, ...   \n",
       "8755645  [missense mutation, lecithin cholesterol acylt...   \n",
       "8751855  [mutation analyses, genetic, common hereditary...   \n",
       "\n",
       "                                                      True  TP  FP  FN  \n",
       "8808605  [chronic nonspherocytic hemolytic anemia, gluc...   1  28   2  \n",
       "9050866                                                 []   0  23   0  \n",
       "9012409  [duarte enzyme variant of galactosemia, la var...   0  42   2  \n",
       "8755645                            [fed, fish-eye disease]   2  27   0  \n",
       "8751855  [hereditary breast cancers, hereditary breast ...   2  18   1  "
      ]
     },
     "execution_count": 14,
     "metadata": {},
     "output_type": "execute_result"
    }
   ],
   "source": [
    "df = pd.concat([df_devel,df_train,df_testa])\n",
    "\n",
    "experimental = []\n",
    "true = []\n",
    "tp = []\n",
    "fp = []\n",
    "fn = []\n",
    "for LINE in df.iterrows():\n",
    "    # gather biomedical text to evaluate\n",
    "    tb = TextBlob(LINE[1][\"Title\"] + \" \" + LINE[1][\"Abstract\"])\n",
    "    \n",
    "    # determine common english words within text and remove them to generate medical words list\n",
    "    common_words_in_corpus = set(common_words) & set(tb.noun_phrases)\n",
    "    medical_words = [i for i in set(tb.noun_phrases) if (i not in common_words_in_corpus)]\n",
    "    medical_words = list(set([e.lower() for e in medical_words]))\n",
    "    experimental.append(medical_words)\n",
    "        \n",
    "    # gather the true terms from the manual annotations\n",
    "    true_terms = list(set([e[2] for e in LINE[1][\"Mentions\"] \n",
    "                           if e[3] == \"SpecificDisease\"]))\n",
    "    true_terms = [e.lower() for e in true_terms]\n",
    "    true.append(true_terms)\n",
    "    \n",
    "    # calculate tp, fp, fn\n",
    "    tp.append(len(set(medical_words) & set(true_terms)))\n",
    "    fp.append(len([e for e in set(medical_words) \n",
    "                   if e not in (set(medical_words) & set(true_terms))]))\n",
    "    fn.append(len([e for e in set(true_terms) if e not in medical_words]))\n",
    "    \n",
    "# append medical words identified with model, true medical words from manual annotations, \n",
    "# tp, fp, fn values to dataframe for each pubmed article entry\n",
    "df[\"Experimental\"] = experimental\n",
    "df[\"True\"] = true\n",
    "df[\"TP\"] = tp\n",
    "df[\"FP\"] = fp\n",
    "df[\"FN\"] = fn\n",
    "\n",
    "df.head() # preview dataframe"
   ]
  },
  {
   "cell_type": "markdown",
   "metadata": {},
   "source": [
    "### Evaluating Results of Naive Method on Biomedical Literature for Disease Entity Extraction"
   ]
  },
  {
   "cell_type": "code",
   "execution_count": 15,
   "metadata": {},
   "outputs": [
    {
     "data": {
      "text/plain": [
       "<matplotlib.axes._subplots.AxesSubplot at 0x1a0c4a3198>"
      ]
     },
     "execution_count": 15,
     "metadata": {},
     "output_type": "execute_result"
    },
    {
     "data": {
      "image/png": "[encoded data removed]",
      "text/plain": [
       "<Figure size 432x288 with 1 Axes>"
      ]
     },
     "metadata": {},
     "output_type": "display_data"
    }
   ],
   "source": [
    "sns.distplot(df[\"TP\"])"
   ]
  },
  {
   "cell_type": "code",
   "execution_count": 16,
   "metadata": {},
   "outputs": [
    {
     "data": {
      "text/plain": [
       "<matplotlib.axes._subplots.AxesSubplot at 0x1a0c4a3eb8>"
      ]
     },
     "execution_count": 16,
     "metadata": {},
     "output_type": "execute_result"
    },
    {
     "data": {
      "image/png": "[encoded data removed]",
      "text/plain": [
       "<Figure size 432x288 with 1 Axes>"
      ]
     },
     "metadata": {},
     "output_type": "display_data"
    }
   ],
   "source": [
    "sns.distplot(df[\"FP\"])"
   ]
  },
  {
   "cell_type": "code",
   "execution_count": 17,
   "metadata": {
    "scrolled": true
   },
   "outputs": [
    {
     "data": {
      "text/plain": [
       "<matplotlib.axes._subplots.AxesSubplot at 0x1a0c32a438>"
      ]
     },
     "execution_count": 17,
     "metadata": {},
     "output_type": "execute_result"
    },
    {
     "data": {
      "image/png": "[encoded data removed]",
      "text/plain": [
       "<Figure size 432x288 with 1 Axes>"
      ]
     },
     "metadata": {},
     "output_type": "display_data"
    }
   ],
   "source": [
    "sns.distplot(df[\"FN\"])"
   ]
  },
  {
   "cell_type": "code",
   "execution_count": 18,
   "metadata": {},
   "outputs": [
    {
     "name": "stdout",
     "output_type": "stream",
     "text": [
      "MICRO RECALL\n",
      "0.48547368421052634\n",
      "MICRO PRECISION\n",
      "0.05681762184004337\n",
      "MICRO AVERAGED F1\n",
      "0.10172931004058584\n"
     ]
    }
   ],
   "source": [
    "micro_recall = (np.sum(df[\"TP\"]) + 1) / (float(np.sum(df[\"TP\"]) + np.sum(df[\"FN\"])) + 1)\n",
    "micro_precis = (np.sum(df[\"TP\"]) + 1) / (float(np.sum(df[\"TP\"]) + np.sum(df[\"FP\"])) + 1)\n",
    "micro_f1scor = (2*micro_recall*micro_precis) / float(micro_recall + micro_precis)\n",
    "\n",
    "print(\"MICRO RECALL\")\n",
    "print(micro_recall)\n",
    "print(\"MICRO PRECISION\")\n",
    "print(micro_precis)\n",
    "print(\"MICRO AVERAGED F1\")\n",
    "print(micro_f1scor)"
   ]
  },
  {
   "cell_type": "code",
   "execution_count": 19,
   "metadata": {},
   "outputs": [
    {
     "name": "stdout",
     "output_type": "stream",
     "text": [
      "MACRO AVERAGED F1\n"
     ]
    },
    {
     "data": {
      "text/plain": [
       "0.6566344442507479"
      ]
     },
     "execution_count": 19,
     "metadata": {},
     "output_type": "execute_result"
    }
   ],
   "source": [
    "def calc_recall(row):\n",
    "    return((row[\"TP\"]+1) / (float(row[\"TP\"] + row[\"FN\"]) + 1))\n",
    "def calc_precis(row):\n",
    "    return((row[\"TP\"]+1) / (float(row[\"TP\"] + row[\"FP\"]) + 1))\n",
    "def calc_f1(row):\n",
    "    R = calc_recall(row)\n",
    "    P = calc_precis(row)\n",
    "    return(((2*R*P) + 1)/(R + P + 1))\n",
    "\n",
    "print(\"MACRO AVERAGED F1\")\n",
    "np.mean(df.apply(lambda row: calc_f1(row), axis=1))"
   ]
  },
  {
   "cell_type": "markdown",
   "metadata": {},
   "source": [
    "### Format and Export Final Output"
   ]
  },
  {
   "cell_type": "code",
   "execution_count": 20,
   "metadata": {},
   "outputs": [],
   "source": [
    "lines = []\n",
    "for ROW in df.iterrows():\n",
    "    entry = ROW[0]\n",
    "    for RESULT in ROW[1]['Experimental']:\n",
    "        lines.append('{0}\\t{1}'.format(entry,RESULT))\n",
    "\n",
    "f = open(\"20181205_MR_naive-approach-results.txt\", \"w\")\n",
    "f.write('\\n'.join(lines))\n",
    "f.close()"
   ]
  }
 ],
 "metadata": {
  "kernelspec": {
   "display_name": "Python 3",
   "language": "python",
   "name": "python3"
  },
  "language_info": {
   "codemirror_mode": {
    "name": "ipython",
    "version": 3
   },
   "file_extension": ".py",
   "mimetype": "text/x-python",
   "name": "python",
   "nbconvert_exporter": "python",
   "pygments_lexer": "ipython3",
   "version": "3.7.0"
  }
 },
 "nbformat": 4,
 "nbformat_minor": 2
}
